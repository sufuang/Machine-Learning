{
 "cells": [
  {
   "cell_type": "markdown",
   "metadata": {},
   "source": [
    "# Statefarm Classification MDL Test"
   ]
  },
  {
   "cell_type": "markdown",
   "metadata": {},
   "source": [
    "## import"
   ]
  },
  {
   "cell_type": "code",
   "execution_count": 1,
   "metadata": {},
   "outputs": [],
   "source": [
    "import pandas as pd\n",
    "import numpy as np\n",
    "from sklearn.decomposition import PCA\n",
    "\n",
    "from sklearn.impute import SimpleImputer\n",
    "\n",
    "from sklearn import preprocessing\n",
    "from sklearn.preprocessing import scale\n",
    "\n",
    "from sklearn.linear_model import LogisticRegression\n",
    "from xgboost import XGBClassifier\n",
    "\n",
    "import pickle\n",
    "\n",
    "import re\n",
    "import math\n",
    "\n",
    "%matplotlib inline"
   ]
  },
  {
   "cell_type": "markdown",
   "metadata": {},
   "source": [
    "## Define functions"
   ]
  },
  {
   "cell_type": "code",
   "execution_count": 2,
   "metadata": {},
   "outputs": [],
   "source": [
    "\"\"\"\n",
    "  Module name: negative_converter \n",
    "  Purpose: convert Excel negative value to Pandas negative value\n",
    "  - ref: https://stackoverflow.com/questions/53989077/how-to-convert-excel-negative-value-to-pandas-negative-value\n",
    "  Parameter\n",
    "   x: feature\n",
    "\"\"\"\n",
    "\n",
    "def negative_converter(x):\n",
    "    # a somewhat naive implementation\n",
    "    x = x.replace('$', '').replace(',', '')\n",
    "    if '(' in x:\n",
    "        x = '-' + x.strip('()')\n",
    "    return float(x)\n"
   ]
  },
  {
   "cell_type": "code",
   "execution_count": 26,
   "metadata": {},
   "outputs": [],
   "source": [
    "\"\"\"\n",
    " -  Remove % from X7 and convert datatype from object to floating \n",
    " -  x3: Consolidate days of the week\n",
    "     - Rename full name to abbreviation, e.g.; 'Monday'-> 'Mon'\n",
    "\"\"\"\n",
    "def data_clean(df):       \n",
    "    df['x7'] = list(map(lambda x: float(re.sub('\\%','',x))/100, df['x7'] ))\n",
    "    \n",
    "    sorted(df.x3.unique())\n",
    "    d_day= {\n",
    "    'Monday'   :'Mon',\n",
    "    'Tuesday'  :'Tue',   \n",
    "    'Wednesday':'Wed',\n",
    "    'Friday'   :'Fri', \n",
    "    'Thursday' :'Thu', \n",
    "    'Saturday' :'Sat', \n",
    "    'Sunday'   :'Sun'}  \n",
    "    for key, value in d_day.items():\n",
    "        df.x3.replace(key, value, inplace = True)"
   ]
  },
  {
   "cell_type": "code",
   "execution_count": 4,
   "metadata": {},
   "outputs": [],
   "source": [
    "\"\"\"\n",
    "- The df_train will use target encoding to convert categorical features to numeric features \n",
    "- The df_test doesn't have target variable and can't use target encoding for the conversion \n",
    "- Will use the function 'tar_enc_test_data' to simulate the  target encoding for the df_test\n",
    "  - Build a dictionary related to target encoding from df_train \n",
    "  - Apply the values from the dictionary to df_test\n",
    "\n",
    "\"\"\"\n",
    "def tar_enc_test_data(df_train, df_test, feature):\n",
    "    encoding = df_train.groupby([feature])['y'].mean().to_dict()\n",
    "    df_test[feature]  = df_test[feature].map(encoding)"
   ]
  },
  {
   "cell_type": "code",
   "execution_count": 5,
   "metadata": {},
   "outputs": [],
   "source": [
    "\"\"\" \n",
    "Impute missing value for numeric features\n",
    "\"\"\"\n",
    "def impute_num(df, feature):    \n",
    "    imputer = SimpleImputer(strategy='mean')\n",
    "    df[feature] = imputer.fit_transform(df[feature].values.reshape(-1,1))[:,0]\n"
   ]
  },
  {
   "cell_type": "markdown",
   "metadata": {},
   "source": [
    "# Main process starts here"
   ]
  },
  {
   "cell_type": "markdown",
   "metadata": {},
   "source": [
    "## Read data"
   ]
  },
  {
   "cell_type": "code",
   "execution_count": 35,
   "metadata": {},
   "outputs": [
    {
     "data": {
      "text/plain": [
       "0     120.22\n",
       "1    -267.56\n",
       "2    -311.29\n",
       "3    2229.15\n",
       "4    -469.05\n",
       "Name: x19, dtype: float64"
      ]
     },
     "execution_count": 35,
     "metadata": {},
     "output_type": "execute_result"
    }
   ],
   "source": [
    "\"\"\"\n",
    "Apply 'negative_converte' to convert Excel negative value to Pandas negative value\n",
    "\"\"\"\n",
    "df_train = pd.read_csv('exercise_40_train.csv', converters={'x19': negative_converter})\n",
    "df_train.x19.head()\n",
    "df_test = pd.read_csv('exercise_40_test.csv', converters={'x19': negative_converter})\n",
    "df_test.x19.head()"
   ]
  },
  {
   "cell_type": "markdown",
   "metadata": {},
   "source": [
    "### Drop features "
   ]
  },
  {
   "cell_type": "code",
   "execution_count": 36,
   "metadata": {},
   "outputs": [
    {
     "data": {
      "text/plain": [
       "(10000, 86)"
      ]
     },
     "execution_count": 36,
     "metadata": {},
     "output_type": "execute_result"
    }
   ],
   "source": [
    "var_drop_high_missing_value = ['x30', 'x44', 'x52', 'x55', 'x57']\n",
    "var_drop_cat =  ['x24', 'x39']\n",
    "var_drop_num =  ['x58', 'x59', 'x67', 'x71', 'x79', 'x84', 'x98']\n",
    "var_drop = var_drop_high_missing_value  + var_drop_cat + var_drop_num\n",
    "df_test = df_test.drop(var_drop, axis = 1)\n",
    "df_test.shape"
   ]
  },
  {
   "cell_type": "markdown",
   "metadata": {},
   "source": [
    "### Data clean"
   ]
  },
  {
   "cell_type": "code",
   "execution_count": 37,
   "metadata": {},
   "outputs": [],
   "source": [
    "data_clean(df_train)  # for x3 and x7\n",
    "data_clean(df_test)  # for x3 and x7"
   ]
  },
  {
   "cell_type": "markdown",
   "metadata": {},
   "source": [
    "### Encoding for categhorical features"
   ]
  },
  {
   "cell_type": "code",
   "execution_count": 38,
   "metadata": {},
   "outputs": [
    {
     "data": {
      "text/plain": [
       "Index([], dtype='object')"
      ]
     },
     "execution_count": 38,
     "metadata": {},
     "output_type": "execute_result"
    }
   ],
   "source": [
    "num_fea = df_test.select_dtypes([np.number]).columns\n",
    "cat_fea = df_test.select_dtypes(exclude=[np.number]).columns\n",
    "\n",
    "#Impute categorical features for df_train\n",
    "for feature in cat_fea:\n",
    "    df_train[feature] =  df_train[feature].fillna('missing') \n",
    "    \n",
    "#Impute categorical features for df_train\n",
    "for feature in cat_fea:\n",
    "    df_test[feature] =  df_test[feature].fillna('missing')     \n",
    "\n",
    "# Simulate target encoding for df_test\n",
    "for feature in cat_fea:\n",
    "    tar_enc_test_data(df_train, df_test, feature)\n",
    "\n",
    "df_test.select_dtypes(exclude=[np.number]).columns"
   ]
  },
  {
   "cell_type": "markdown",
   "metadata": {},
   "source": [
    "### Impute numeric features"
   ]
  },
  {
   "cell_type": "code",
   "execution_count": 39,
   "metadata": {},
   "outputs": [
    {
     "name": "stdout",
     "output_type": "stream",
     "text": [
      "feature x5\n",
      "feature x11\n",
      "feature x14\n",
      "feature x16\n",
      "feature x22\n",
      "feature x26\n",
      "feature x38\n",
      "feature x41\n",
      "feature x42\n",
      "feature x45\n",
      "feature x49\n",
      "feature x54\n",
      "feature x61\n",
      "feature x63\n",
      "feature x64\n",
      "feature x68\n",
      "feature x74\n",
      "feature x75\n",
      "feature x76\n",
      "feature x78\n",
      "feature x80\n",
      "feature x83\n",
      "feature x85\n",
      "feature x86\n",
      "feature x88\n",
      "feature x89\n",
      "feature x91\n",
      "feature x92\n",
      "feature x94\n",
      "feature x95\n",
      "feature x96\n"
     ]
    }
   ],
   "source": [
    "nr = lambda df, feature : df[feature].isnull().sum()/len(df) # Null value ratio\n",
    "for feature in num_fea:\n",
    "    if nr(df_test, feature) > 0:  \n",
    "       impute_num(df_test, feature)"
   ]
  },
  {
   "cell_type": "markdown",
   "metadata": {},
   "source": [
    "### PCA - Principal Components Analysis\n",
    "- Applied PCA to reduce the features from 86 to 60 and transform the df_train"
   ]
  },
  {
   "cell_type": "code",
   "execution_count": 42,
   "metadata": {},
   "outputs": [],
   "source": [
    "X =  scale(df_test, with_mean=True, with_std=True)\n",
    "#X =  scale(df_test)"
   ]
  },
  {
   "cell_type": "code",
   "execution_count": 43,
   "metadata": {},
   "outputs": [],
   "source": [
    "X_test_pca = PCA(n_components= 60).fit_transform(X)"
   ]
  },
  {
   "cell_type": "markdown",
   "metadata": {},
   "source": [
    "### Load LogisticRegression model\n",
    "    - pkl as clf\n",
    "    - Get probablity of x_test_pca\n",
    "    "
   ]
  },
  {
   "cell_type": "code",
   "execution_count": 48,
   "metadata": {},
   "outputs": [],
   "source": [
    "with open('clf.pkl', 'rb') as f:\n",
    "     clf = pickle.load(f)\n",
    "\n",
    "# Predict X_test_pca\n",
    "pred_clf = clf.predict_proba(X_test_pca)\n",
    "np.savetxt('glmresults.csv', pred_clf[:, 1], delimiter=',')"
   ]
  },
  {
   "cell_type": "markdown",
   "metadata": {},
   "source": [
    "### Load XGBClassifier model\n",
    "- pkl as xgb\n",
    "- Get probablity of x_test_pca"
   ]
  },
  {
   "cell_type": "code",
   "execution_count": 60,
   "metadata": {},
   "outputs": [],
   "source": [
    "with open('xgb.pkl', 'rb') as f:\n",
    "     xgb = pickle.load(f)\n",
    "\n",
    "# Predict X_test_pca\n",
    "pred_xgb = xgb.predict_proba(X_test_pca)  # numpy.ndarray\n",
    "np.savetxt('nonlmresults.csv', pred_xgb[:, 1], delimiter=',')"
   ]
  },
  {
   "cell_type": "markdown",
   "metadata": {},
   "source": [
    "## wip"
   ]
  },
  {
   "cell_type": "code",
   "execution_count": 51,
   "metadata": {},
   "outputs": [
    {
     "data": {
      "text/plain": [
       "array([[9.99999675e-01, 3.25214201e-07],\n",
       "       [9.99998204e-01, 1.79598703e-06],\n",
       "       [9.99993024e-01, 6.97646506e-06],\n",
       "       [9.88545446e-01, 1.14545537e-02],\n",
       "       [9.99999867e-01, 1.33323479e-07],\n",
       "       [9.99741115e-01, 2.58885486e-04],\n",
       "       [1.79487532e-03, 9.98205125e-01],\n",
       "       [5.68093408e-01, 4.31906592e-01],\n",
       "       [1.00000000e+00, 3.92005889e-11],\n",
       "       [9.99891305e-01, 1.08694832e-04]])"
      ]
     },
     "execution_count": 51,
     "metadata": {},
     "output_type": "execute_result"
    }
   ],
   "source": [
    "pred_clf[0:10]"
   ]
  },
  {
   "cell_type": "code",
   "execution_count": 61,
   "metadata": {},
   "outputs": [
    {
     "data": {
      "text/plain": [
       "array([[9.9995285e-01, 4.7128728e-05],\n",
       "       [9.9996591e-01, 3.4095690e-05],\n",
       "       [9.9999821e-01, 1.7789699e-06],\n",
       "       [9.9998206e-01, 1.7944254e-05],\n",
       "       [9.9999619e-01, 3.7934526e-06],\n",
       "       [9.9999863e-01, 1.3700972e-06],\n",
       "       [5.9861887e-01, 4.0138116e-01],\n",
       "       [2.1081132e-01, 7.8918868e-01],\n",
       "       [9.9999428e-01, 5.7169291e-06],\n",
       "       [9.9999857e-01, 1.4098258e-06]], dtype=float32)"
      ]
     },
     "execution_count": 61,
     "metadata": {},
     "output_type": "execute_result"
    }
   ],
   "source": [
    "pred_xgb[0:10]"
   ]
  },
  {
   "cell_type": "code",
   "execution_count": 54,
   "metadata": {},
   "outputs": [
    {
     "ename": "AttributeError",
     "evalue": "'numpy.ndarray' object has no attribute 'savetxt'",
     "output_type": "error",
     "traceback": [
      "\u001b[1;31m---------------------------------------------------------------------------\u001b[0m",
      "\u001b[1;31mAttributeError\u001b[0m                            Traceback (most recent call last)",
      "\u001b[1;32m<ipython-input-54-eb8eda21fd5b>\u001b[0m in \u001b[0;36m<module>\u001b[1;34m\u001b[0m\n\u001b[0;32m      1\u001b[0m \u001b[1;31m#pred_clf[:, 1].to_dataframe.to_csv('glmresults.csv')\u001b[0m\u001b[1;33m\u001b[0m\u001b[1;33m\u001b[0m\u001b[1;33m\u001b[0m\u001b[0m\n\u001b[1;32m----> 2\u001b[1;33m \u001b[0mpred_clf\u001b[0m\u001b[1;33m[\u001b[0m\u001b[1;33m:\u001b[0m\u001b[1;33m,\u001b[0m \u001b[1;36m1\u001b[0m\u001b[1;33m]\u001b[0m\u001b[1;33m.\u001b[0m\u001b[0msavetxt\u001b[0m\u001b[1;33m(\u001b[0m\u001b[1;34m'glmresults.csv'\u001b[0m\u001b[1;33m)\u001b[0m\u001b[1;33m\u001b[0m\u001b[1;33m\u001b[0m\u001b[0m\n\u001b[0m",
      "\u001b[1;31mAttributeError\u001b[0m: 'numpy.ndarray' object has no attribute 'savetxt'"
     ]
    }
   ],
   "source": [
    "#pred_clf[:, 1].to_dataframe.to_csv('glmresults.csv')\n",
    "pred_clf[:, 1].savetxt('glmresults.csv')"
   ]
  },
  {
   "cell_type": "code",
   "execution_count": 56,
   "metadata": {},
   "outputs": [
    {
     "ename": "NameError",
     "evalue": "name 'pred_xgb' is not defined",
     "output_type": "error",
     "traceback": [
      "\u001b[1;31m---------------------------------------------------------------------------\u001b[0m",
      "\u001b[1;31mNameError\u001b[0m                                 Traceback (most recent call last)",
      "\u001b[1;32m<ipython-input-56-a605bafc59bc>\u001b[0m in \u001b[0;36m<module>\u001b[1;34m\u001b[0m\n\u001b[1;32m----> 1\u001b[1;33m \u001b[0mnp\u001b[0m\u001b[1;33m.\u001b[0m\u001b[0msavetxt\u001b[0m\u001b[1;33m(\u001b[0m\u001b[1;34m'nonlmresults.csv'\u001b[0m\u001b[1;33m,\u001b[0m \u001b[0mpred_xgb\u001b[0m\u001b[1;33m[\u001b[0m\u001b[1;33m:\u001b[0m\u001b[1;33m,\u001b[0m \u001b[1;36m1\u001b[0m\u001b[1;33m]\u001b[0m\u001b[1;33m)\u001b[0m\u001b[1;33m\u001b[0m\u001b[1;33m\u001b[0m\u001b[0m\n\u001b[0m",
      "\u001b[1;31mNameError\u001b[0m: name 'pred_xgb' is not defined"
     ]
    }
   ],
   "source": [
    "np.savetxt('nonlmresults.csv', pred_xgb[:, 1])"
   ]
  },
  {
   "cell_type": "code",
   "execution_count": 55,
   "metadata": {},
   "outputs": [],
   "source": [
    "np.savetxt('glmresults.csv', pred_clf[:, 1], delimiter=',')"
   ]
  },
  {
   "cell_type": "code",
   "execution_count": null,
   "metadata": {},
   "outputs": [],
   "source": [
    "var = df_test.columns\n",
    "var[0]"
   ]
  },
  {
   "cell_type": "code",
   "execution_count": null,
   "metadata": {},
   "outputs": [],
   "source": [
    "type(df_test.columns) # pandas.core.indexes.base.Index"
   ]
  },
  {
   "cell_type": "code",
   "execution_count": null,
   "metadata": {},
   "outputs": [],
   "source": [
    "df_test.columns.shape"
   ]
  },
  {
   "cell_type": "code",
   "execution_count": null,
   "metadata": {},
   "outputs": [],
   "source": [
    "a = 5"
   ]
  },
  {
   "cell_type": "code",
   "execution_count": null,
   "metadata": {},
   "outputs": [],
   "source": [
    ">> a"
   ]
  },
  {
   "cell_type": "code",
   "execution_count": null,
   "metadata": {},
   "outputs": [],
   "source": [
    "cat_fea"
   ]
  },
  {
   "cell_type": "code",
   "execution_count": null,
   "metadata": {},
   "outputs": [],
   "source": [
    "df_train.columns"
   ]
  },
  {
   "cell_type": "code",
   "execution_count": 15,
   "metadata": {},
   "outputs": [
    {
     "data": {
      "text/plain": [
       "Index(['x3', 'x7', 'x31', 'x33', 'x60', 'x65', 'x77', 'x93', 'x99'], dtype='object')"
      ]
     },
     "execution_count": 15,
     "metadata": {},
     "output_type": "execute_result"
    }
   ],
   "source": [
    "cat_fea"
   ]
  },
  {
   "cell_type": "code",
   "execution_count": 16,
   "metadata": {},
   "outputs": [
    {
     "data": {
      "text/plain": [
       "0    Wed\n",
       "1    Fri\n",
       "2    Thu\n",
       "3    Tue\n",
       "4    Sun\n",
       "5    Sat\n",
       "6    Thu\n",
       "7    Sat\n",
       "8    Wed\n",
       "9    Tue\n",
       "Name: x3, dtype: object"
      ]
     },
     "execution_count": 16,
     "metadata": {},
     "output_type": "execute_result"
    }
   ],
   "source": [
    "df_train.x3[0:10]"
   ]
  },
  {
   "cell_type": "code",
   "execution_count": 40,
   "metadata": {},
   "outputs": [
    {
     "data": {
      "text/plain": [
       "0        yes\n",
       "1        yes\n",
       "2        yes\n",
       "3        yes\n",
       "4        yes\n",
       "5    missing\n",
       "6        yes\n",
       "7        yes\n",
       "8        yes\n",
       "9    missing\n",
       "Name: x99, dtype: object"
      ]
     },
     "execution_count": 40,
     "metadata": {},
     "output_type": "execute_result"
    }
   ],
   "source": [
    "df_train.x99[0:10]"
   ]
  },
  {
   "cell_type": "code",
   "execution_count": 23,
   "metadata": {},
   "outputs": [
    {
     "data": {
      "text/plain": [
       "0         NaN\n",
       "1    0.146407\n",
       "2    0.146407\n",
       "3         NaN\n",
       "4    0.146407\n",
       "5    0.146407\n",
       "6    0.146407\n",
       "7    0.146407\n",
       "8    0.146407\n",
       "9         NaN\n",
       "Name: x99, dtype: float64"
      ]
     },
     "execution_count": 23,
     "metadata": {},
     "output_type": "execute_result"
    }
   ],
   "source": [
    "df_test.x99[0:10]"
   ]
  },
  {
   "cell_type": "code",
   "execution_count": 21,
   "metadata": {},
   "outputs": [
    {
     "data": {
      "text/plain": [
       "Index(['x1', 'x2', 'x3', 'x4', 'x5', 'x6', 'x7', 'x8', 'x9', 'x10', 'x11',\n",
       "       'x12', 'x13', 'x14', 'x15', 'x16', 'x17', 'x18', 'x19', 'x20', 'x21',\n",
       "       'x22', 'x23', 'x25', 'x26', 'x27', 'x28', 'x29', 'x31', 'x32', 'x33',\n",
       "       'x34', 'x35', 'x36', 'x37', 'x38', 'x40', 'x41', 'x42', 'x43', 'x45',\n",
       "       'x46', 'x47', 'x48', 'x49', 'x50', 'x51', 'x53', 'x54', 'x56', 'x60',\n",
       "       'x61', 'x62', 'x63', 'x64', 'x65', 'x66', 'x68', 'x69', 'x70', 'x72',\n",
       "       'x73', 'x74', 'x75', 'x76', 'x77', 'x78', 'x80', 'x81', 'x82', 'x83',\n",
       "       'x85', 'x86', 'x87', 'x88', 'x89', 'x90', 'x91', 'x92', 'x93', 'x94',\n",
       "       'x95', 'x96', 'x97', 'x99', 'x100'],\n",
       "      dtype='object')"
      ]
     },
     "execution_count": 21,
     "metadata": {},
     "output_type": "execute_result"
    }
   ],
   "source": [
    "num_fea\n"
   ]
  },
  {
   "cell_type": "code",
   "execution_count": null,
   "metadata": {},
   "outputs": [],
   "source": []
  }
 ],
 "metadata": {
  "kernelspec": {
   "display_name": "Python 3",
   "language": "python",
   "name": "python3"
  },
  "language_info": {
   "codemirror_mode": {
    "name": "ipython",
    "version": 3
   },
   "file_extension": ".py",
   "mimetype": "text/x-python",
   "name": "python",
   "nbconvert_exporter": "python",
   "pygments_lexer": "ipython3",
   "version": "3.7.7"
  }
 },
 "nbformat": 4,
 "nbformat_minor": 4
}
